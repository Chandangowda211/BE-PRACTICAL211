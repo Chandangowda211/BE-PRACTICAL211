{
 "cells": [
  {
   "cell_type": "code",
   "execution_count": 1,
   "id": "044a7c6a",
   "metadata": {
    "scrolled": false
   },
   "outputs": [
    {
     "name": "stdout",
     "output_type": "stream",
     "text": [
      "<class 'pandas.core.frame.DataFrame'>\n",
      "RangeIndex: 374115 entries, 0 to 374114\n",
      "Data columns (total 9 columns):\n",
      " #   Column                Non-Null Count   Dtype \n",
      "---  ------                --------------   ----- \n",
      " 0   Duration              374115 non-null  int64 \n",
      " 1   Start date            374115 non-null  object\n",
      " 2   End date              374115 non-null  object\n",
      " 3   Start station number  374115 non-null  int64 \n",
      " 4   Start station         374115 non-null  object\n",
      " 5   End station number    374115 non-null  int64 \n",
      " 6   End station           374115 non-null  object\n",
      " 7   Bike number           374115 non-null  object\n",
      " 8   Member type           374115 non-null  object\n",
      "dtypes: int64(3), object(6)\n",
      "memory usage: 25.7+ MB\n",
      "None\n",
      "[[  679 31302 31307]\n",
      " [  578 31232 31609]\n",
      " [  580 31232 31609]\n",
      " [  606 31104 31509]\n",
      " [  582 31129 31118]]\n",
      "['Member' 'Casual' 'Casual' 'Member' 'Member']\n",
      "Sample y: [1 0 0 1 1]\n",
      "0 : Casual\n",
      "1 : Member\n",
      "[[16396  8901]\n",
      " [10599 57633]]\n"
     ]
    }
   ],
   "source": [
    "import pandas as pd\n",
    "import numpy as np\n",
    "import matplotlib.pyplot as plt\n",
    "\n",
    "data_set = pd.read_csv('capitalbikeshare.csv')\n",
    "\n",
    "print(data_set.info())\n",
    "\n",
    "X = data_set.iloc[:, [0, 3, 5]].values\n",
    "y = data_set.iloc[:, -1].values\n",
    "print(X[:5])\n",
    "print(y[:5])\n",
    "\n",
    "from sklearn.preprocessing import LabelEncoder\n",
    "labelencoder_y =LabelEncoder()\n",
    "y = labelencoder_y.fit_transform(y)\n",
    "print(\"Sample y:\",y[:5])\n",
    "print(\"0 :\",labelencoder_y.classes_[0])\n",
    "print(\"1 :\",labelencoder_y.classes_[1])\n",
    "\n",
    "from sklearn.model_selection import train_test_split\n",
    "X_train, X_test, y_train, y_test = train_test_split(X, y, test_size=0.25, random_state=0)\n",
    "\n",
    "from sklearn.tree import DecisionTreeClassifier\n",
    "classifier = DecisionTreeClassifier(criterion='entropy', min_samples_leaf=4, random_state=0)\n",
    "classifier.fit(X_train, y_train)\n",
    "\n",
    "y_pred = classifier.predict(X_test)\n",
    "\n",
    "from sklearn.metrics import confusion_matrix\n",
    "cm = confusion_matrix(y_test, y_pred)\n",
    "print(cm)"
   ]
  },
  {
   "cell_type": "code",
   "execution_count": null,
   "id": "5b0b1ac8",
   "metadata": {},
   "outputs": [],
   "source": []
  },
  {
   "cell_type": "code",
   "execution_count": null,
   "id": "ac76279b",
   "metadata": {},
   "outputs": [],
   "source": []
  }
 ],
 "metadata": {
  "kernelspec": {
   "display_name": "Python 3 (ipykernel)",
   "language": "python",
   "name": "python3"
  },
  "language_info": {
   "codemirror_mode": {
    "name": "ipython",
    "version": 3
   },
   "file_extension": ".py",
   "mimetype": "text/x-python",
   "name": "python",
   "nbconvert_exporter": "python",
   "pygments_lexer": "ipython3",
   "version": "3.11.3"
  }
 },
 "nbformat": 4,
 "nbformat_minor": 5
}
