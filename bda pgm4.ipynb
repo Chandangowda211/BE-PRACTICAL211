{
 "cells": [
  {
   "cell_type": "code",
   "execution_count": 1,
   "id": "3f1fa7fe",
   "metadata": {},
   "outputs": [
    {
     "name": "stdout",
     "output_type": "stream",
     "text": [
      "<class 'pandas.core.frame.DataFrame'>\n",
      "RangeIndex: 8523 entries, 0 to 8522\n",
      "Data columns (total 12 columns):\n",
      " #   Column                     Non-Null Count  Dtype  \n",
      "---  ------                     --------------  -----  \n",
      " 0   Item_Identifier            8523 non-null   object \n",
      " 1   Item_Weight                7060 non-null   float64\n",
      " 2   Item_Fat_Content           8523 non-null   object \n",
      " 3   Item_Visibility            8523 non-null   float64\n",
      " 4   Item_Type                  8523 non-null   object \n",
      " 5   Item_MRP                   8523 non-null   float64\n",
      " 6   Outlet_Identifier          8523 non-null   object \n",
      " 7   Outlet_Establishment_Year  8523 non-null   int64  \n",
      " 8   Outlet_Size                6113 non-null   object \n",
      " 9   Outlet_Location_Type       8523 non-null   object \n",
      " 10  Outlet_Type                8523 non-null   object \n",
      " 11  Item_Outlet_Sales          8523 non-null   float64\n",
      "dtypes: float64(4), int64(1), object(7)\n",
      "memory usage: 799.2+ KB\n",
      "None\n",
      "Item_Identifier              False\n",
      "Item_Weight                   True\n",
      "Item_Fat_Content             False\n",
      "Item_Visibility              False\n",
      "Item_Type                    False\n",
      "Item_MRP                     False\n",
      "Outlet_Identifier            False\n",
      "Outlet_Establishment_Year    False\n",
      "Outlet_Size                   True\n",
      "Outlet_Location_Type         False\n",
      "Outlet_Type                  False\n",
      "Item_Outlet_Sales            False\n",
      "dtype: bool\n"
     ]
    },
    {
     "ename": "ImportError",
     "evalue": "cannot import name 'Imputer' from 'sklearn.preprocessing' (C:\\Users\\Jeswanth\\anaconda3\\Lib\\site-packages\\sklearn\\preprocessing\\__init__.py)",
     "output_type": "error",
     "traceback": [
      "\u001b[1;31m---------------------------------------------------------------------------\u001b[0m",
      "\u001b[1;31mImportError\u001b[0m                               Traceback (most recent call last)",
      "Cell \u001b[1;32mIn[1], line 28\u001b[0m\n\u001b[0;32m     26\u001b[0m     X_dataset \u001b[38;5;241m=\u001b[39m ohe_1\u001b[38;5;241m.\u001b[39mfit_transform(X_dataset)\u001b[38;5;241m.\u001b[39mtoarray() \n\u001b[0;32m     27\u001b[0m     \u001b[38;5;28;01mreturn\u001b[39;00m X_dataset \n\u001b[1;32m---> 28\u001b[0m X_train \u001b[38;5;241m=\u001b[39m prepro(Train) \n\u001b[0;32m     29\u001b[0m \u001b[38;5;28;01mfrom\u001b[39;00m \u001b[38;5;21;01msklearn\u001b[39;00m\u001b[38;5;21;01m.\u001b[39;00m\u001b[38;5;21;01mlinear_model\u001b[39;00m \u001b[38;5;28;01mimport\u001b[39;00m LinearRegression \n\u001b[0;32m     30\u001b[0m lin_reg \u001b[38;5;241m=\u001b[39m LinearRegression() \n",
      "Cell \u001b[1;32mIn[1], line 10\u001b[0m, in \u001b[0;36mprepro\u001b[1;34m(dataset)\u001b[0m\n\u001b[0;32m      8\u001b[0m \u001b[38;5;28;01mdef\u001b[39;00m \u001b[38;5;21mprepro\u001b[39m(dataset): \n\u001b[0;32m      9\u001b[0m     X_dataset \u001b[38;5;241m=\u001b[39m dataset\u001b[38;5;241m.\u001b[39mvalues \n\u001b[1;32m---> 10\u001b[0m     \u001b[38;5;28;01mfrom\u001b[39;00m \u001b[38;5;21;01msklearn\u001b[39;00m\u001b[38;5;21;01m.\u001b[39;00m\u001b[38;5;21;01mpreprocessing\u001b[39;00m \u001b[38;5;28;01mimport\u001b[39;00m Imputer\n\u001b[0;32m     11\u001b[0m     impute \u001b[38;5;241m=\u001b[39m Imputer(missing_values\u001b[38;5;241m=\u001b[39m\u001b[38;5;124m'\u001b[39m\u001b[38;5;124mNaN\u001b[39m\u001b[38;5;124m'\u001b[39m, strategy\u001b[38;5;241m=\u001b[39m\u001b[38;5;124m'\u001b[39m\u001b[38;5;124mmean\u001b[39m\u001b[38;5;124m'\u001b[39m) \n\u001b[0;32m     12\u001b[0m     column1 \u001b[38;5;241m=\u001b[39m X_dataset[:, \u001b[38;5;241m1\u001b[39m]\u001b[38;5;241m.\u001b[39mreshape(\u001b[38;5;241m-\u001b[39m\u001b[38;5;241m1\u001b[39m, \u001b[38;5;241m1\u001b[39m) \n",
      "\u001b[1;31mImportError\u001b[0m: cannot import name 'Imputer' from 'sklearn.preprocessing' (C:\\Users\\Jeswanth\\anaconda3\\Lib\\site-packages\\sklearn\\preprocessing\\__init__.py)"
     ]
    }
   ],
   "source": [
    "import pandas as pd \n",
    "import numpy as np \n",
    "Train = pd.read_csv('Train_UWu5bXk.csv') \n",
    "Test = pd.read_csv('Test_u94Q5KV.csv') \n",
    "X_train, y_train = Train.iloc[:, :-1].values, Train.iloc[:, -1].values \n",
    "print(Train.info()) \n",
    "print(Train.isnull().any()) \n",
    "def prepro(dataset): \n",
    "    X_dataset = dataset.values \n",
    "    from sklearn.preprocessing import Imputer\n",
    "    impute = Imputer(missing_values='NaN', strategy='mean') \n",
    "    column1 = X_dataset[:, 1].reshape(-1, 1) \n",
    "    X_dataset[:, 1] = impute.fit_transform(column1).reshape(1, -1) \n",
    "    X_dataset = pd.DataFrame(X_dataset) \n",
    "    X_dataset.iloc[:, 2] = X_dataset.iloc[:, 2].map({'reg': 'Regular', 'LF': 'Low Fat', 'low fat': 'Low Fat','Low Fat': 'Low Fat', 'Regular': 'Regular'}) \n",
    "    X_dataset = X_dataset.values \n",
    "    from sklearn.preprocessing import LabelEncoder, OneHotEncoder \n",
    "    label_encoder_1 = LabelEncoder() \n",
    "    X_dataset[:, 2] = label_encoder_1.fit_transform(X_dataset[:, 2]) \n",
    "    label_encoder_2 = LabelEncoder() \n",
    "    X_dataset[:, 10] = label_encoder_2.fit_transform(X_dataset[:, 10]) \n",
    "    label_encoder_3 = LabelEncoder() \n",
    "    X_dataset[:, 9] = label_encoder_2.fit_transform(X_dataset[:, 9]) \n",
    "    X_dataset = X_dataset[:, [1, 2, 3, 5, 7, 9, 10]] \n",
    "    ohe_1 = OneHotEncoder(categorical_features=[5, 6]) \n",
    "    X_dataset = ohe_1.fit_transform(X_dataset).toarray() \n",
    "    return X_dataset \n",
    "X_train = prepro(Train) \n",
    "from sklearn.linear_model import LinearRegression \n",
    "lin_reg = LinearRegression() \n",
    "lin_reg.fit(X_train, y_train) \n",
    "X_test = prepro(dataset=Test) \n",
    "y_pred = lin_reg.predict(X_test) \n",
    "X_df = pd.DataFrame(X_test) \n",
    "y_df = pd.DataFrame(y_pred) \n",
    "Headers = pd.DataFrame(Test.iloc[:, [0, 6]]) \n",
    "Result = pd.concat([Headers, X_df, y_df], axis=1, ignore_index=True) \n",
    "Result = Result.rename(columns={0: 'Item Identifier', 1: 'Outlet Identifier', 14:'Predicted Outlet Sales'}) \n",
    "Result.to_csv('07_BigMartSales_RESULTS.csv', index=False) \n",
    "print('CHECK FOR: 07_BigMartSales_RESULTS.csv IN WORKING DIRECTORY')"
   ]
  },
  {
   "cell_type": "code",
   "execution_count": null,
   "id": "c1267c83",
   "metadata": {},
   "outputs": [],
   "source": []
  }
 ],
 "metadata": {
  "kernelspec": {
   "display_name": "Python 3 (ipykernel)",
   "language": "python",
   "name": "python3"
  },
  "language_info": {
   "codemirror_mode": {
    "name": "ipython",
    "version": 3
   },
   "file_extension": ".py",
   "mimetype": "text/x-python",
   "name": "python",
   "nbconvert_exporter": "python",
   "pygments_lexer": "ipython3",
   "version": "3.11.3"
  }
 },
 "nbformat": 4,
 "nbformat_minor": 5
}
